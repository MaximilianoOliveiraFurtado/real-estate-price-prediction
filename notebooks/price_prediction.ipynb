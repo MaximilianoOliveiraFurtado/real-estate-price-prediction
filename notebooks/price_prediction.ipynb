{
 "cells": [
  {
   "cell_type": "markdown",
   "id": "39add663",
   "metadata": {},
   "source": [
    "# Price prediction\n",
    "\n",
    "Análise exploratória, modelagem e avaliação com dados do Kaggle."
   ]
  },
  {
   "cell_type": "code",
   "execution_count": null,
   "id": "7ba5c1bb",
   "metadata": {},
   "outputs": [],
   "source": [
    "import pandas as pd\n",
    "import numpy as np\n",
    "import matplotlib.pyplot as plt\n",
    "import seaborn as sns\n",
    "from sklearn.model_selection import train_test_split\n",
    "from sklearn.linear_model import LinearRegression\n",
    "from sklearn.tree import DecisionTreeRegressor\n",
    "from sklearn.metrics import mean_squared_error, r2_score\n",
    "import statsmodels.api as sm"
   ]
  },
  {
   "cell_type": "markdown",
   "id": "1a4e90ea",
   "metadata": {},
   "source": [
    "## Carregamento e visualização inicial dos dados"
   ]
  },
  {
   "cell_type": "code",
   "execution_count": null,
   "id": "8af5f060",
   "metadata": {},
   "outputs": [],
   "source": [
    "df = pd.read_csv(\"../data/train.csv\")\n",
    "df.head()"
   ]
  },
  {
   "cell_type": "code",
   "execution_count": null,
   "id": "0ec06b9b",
   "metadata": {},
   "outputs": [],
   "source": [
    "df.describe()"
   ]
  },
  {
   "cell_type": "code",
   "execution_count": null,
   "id": "bc40ac8f",
   "metadata": {},
   "outputs": [],
   "source": [
    "df = df.drop(columns=[\"Alley\", \"PoolQC\", \"Fence\", \"MiscFeature\"], errors='ignore')\n",
    "df = df.dropna()\n",
    "df = pd.get_dummies(df, columns=[\"Neighborhood\"], drop_first=True)"
   ]
  },
  {
   "cell_type": "markdown",
   "id": "7462faba",
   "metadata": {},
   "source": [
    "## Visualização da distribuição dos preços"
   ]
  },
  {
   "cell_type": "code",
   "execution_count": null,
   "id": "db64c7c9",
   "metadata": {},
   "outputs": [],
   "source": [
    "plt.figure(figsize=(8, 5))\n",
    "sns.histplot(df['SalePrice'], kde=True)\n",
    "plt.title(\"Distribuição dos Preços\")\n",
    "plt.xlabel(\"Preço\")\n",
    "plt.ylabel(\"Frequência\")\n",
    "plt.show()"
   ]
  },
  {
   "cell_type": "markdown",
   "id": "9941c99e",
   "metadata": {},
   "source": [
    "## Correlação com a variável alvo"
   ]
  },
  {
   "cell_type": "code",
   "execution_count": null,
   "id": "e1a9dec9",
   "metadata": {},
   "outputs": [],
   "source": [
    "corr = df.corr(numeric_only=True)\n",
    "plt.figure(figsize=(12, 8))\n",
    "sns.heatmap(corr[['SalePrice']].sort_values(by='SalePrice', ascending=False), annot=True)\n",
    "plt.title(\"Correlação com SalePrice\")\n",
    "plt.show()"
   ]
  },
  {
   "cell_type": "markdown",
   "id": "dabb69ad",
   "metadata": {},
   "source": [
    "## Seleção de variáveis e preparação para modelagem"
   ]
  },
  {
   "cell_type": "code",
   "execution_count": null,
   "id": "19571511",
   "metadata": {},
   "outputs": [],
   "source": [
    "bairros = [col for col in df.columns if col.startswith(\"Neighborhood_\")]\n",
    "features = ['OverallQual', 'GrLivArea', 'GarageCars', 'GarageArea',\n",
    "            'TotalBsmtSF', '1stFlrSF', 'FullBath', 'TotRmsAbvGrd', 'YearBuilt'] + bairros\n",
    "df_model = df[features + ['SalePrice']]\n",
    "X = df_model.drop('SalePrice', axis=1)\n",
    "y = df_model['SalePrice']"
   ]
  },
  {
   "cell_type": "code",
   "execution_count": null,
   "id": "52f47382",
   "metadata": {},
   "outputs": [],
   "source": [
    "X_train, X_test, y_train, y_test = train_test_split(X, y, test_size=0.2, random_state=42)"
   ]
  },
  {
   "cell_type": "markdown",
   "id": "33c31945",
   "metadata": {},
   "source": [
    "## Modelo 1: Regressão Linear"
   ]
  },
  {
   "cell_type": "code",
   "execution_count": null,
   "id": "e6f70fa3",
   "metadata": {},
   "outputs": [],
   "source": [
    "lr = LinearRegression()\n",
    "lr.fit(X_train, y_train)\n",
    "y_pred_lr = lr.predict(X_test)\n",
    "\n",
    "print(\"R²:\", r2_score(y_test, y_pred_lr))\n",
    "print(\"RMSE:\", mean_squared_error(y_test, y_pred_lr, squared=False))"
   ]
  },
  {
   "cell_type": "code",
   "execution_count": null,
   "id": "7152667a",
   "metadata": {},
   "outputs": [],
   "source": [
    "X_train_sm = sm.add_constant(X_train)\n",
    "X_train_sm = X_train_sm.astype(float)\n",
    "ols_model = sm.OLS(y_train, X_train_sm).fit()\n",
    "ols_model.summary()"
   ]
  },
  {
   "cell_type": "markdown",
   "id": "3aafa1ea",
   "metadata": {},
   "source": [
    "## Modelo 2: Árvore de Regressão"
   ]
  },
  {
   "cell_type": "code",
   "execution_count": null,
   "id": "13f49d81",
   "metadata": {},
   "outputs": [],
   "source": [
    "dt = DecisionTreeRegressor(max_depth=5)\n",
    "dt.fit(X_train, y_train)\n",
    "y_pred_dt = dt.predict(X_test)\n",
    "\n",
    "print(\"R²:\", r2_score(y_test, y_pred_dt))\n",
    "print(\"RMSE:\", mean_squared_error(y_test, y_pred_dt, squared=False))"
   ]
  },
  {
   "cell_type": "markdown",
   "id": "af4ca543",
   "metadata": {},
   "source": [
    "## Comparação visual"
   ]
  },
  {
   "cell_type": "code",
   "execution_count": null,
   "id": "7dc60d12",
   "metadata": {},
   "outputs": [],
   "source": [
    "plt.figure(figsize=(8, 5))\n",
    "sns.kdeplot(y_test, label='Real', linewidth=2)\n",
    "sns.kdeplot(y_pred_lr, label='Regressão Linear', linestyle=\"--\")\n",
    "sns.kdeplot(y_pred_dt, label='Árvore de Regressão', linestyle=\":\")\n",
    "plt.title(\"Comparação de Distribuições: Real vs Predito\")\n",
    "plt.legend()\n",
    "plt.show()"
   ]
  }
 ],
 "metadata": {
  "kernelspec": {
   "display_name": ".venv",
   "language": "python",
   "name": "python3"
  },
  "language_info": {
   "codemirror_mode": {
    "name": "ipython",
    "version": 3
   },
   "file_extension": ".py",
   "mimetype": "text/x-python",
   "name": "python",
   "nbconvert_exporter": "python",
   "pygments_lexer": "ipython3",
   "version": "3.8.10"
  }
 },
 "nbformat": 4,
 "nbformat_minor": 5
}
